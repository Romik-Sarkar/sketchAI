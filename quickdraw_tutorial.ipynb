{
 "cells": [
  {
   "cell_type": "code",
   "execution_count": 1,
   "id": "878618cd-dd61-4589-9bbf-937cd70e4c19",
   "metadata": {
    "tags": []
   },
   "outputs": [],
   "source": [
    "import os\n",
    "import glob\n",
    "import numpy as np\n",
    "from tensorflow.keras import layers\n",
    "from tensorflow import keras \n",
    "import tensorflow as tf\n",
    "import cv2\n",
    "from PIL import Image"
   ]
  },
  {
   "cell_type": "code",
   "execution_count": 1,
   "id": "51778298",
   "metadata": {},
   "outputs": [
    {
     "name": "stdout",
     "output_type": "stream",
     "text": [
      "c:\\Users\\texas\\.pyenv\\pyenv-win\\versions\\3.8.10\\python.exe\n"
     ]
    }
   ],
   "source": [
    "# get location of python\n",
    "import sys\n",
    "print(sys.executable)"
   ]
  },
  {
   "cell_type": "code",
   "execution_count": 2,
   "id": "d665812e-e1b6-415d-91f3-258526254b19",
   "metadata": {
    "tags": []
   },
   "outputs": [
    {
     "name": "stdout",
     "output_type": "stream",
     "text": [
      "Requirement already satisfied: datasets in c:\\users\\texas\\.pyenv\\pyenv-win\\versions\\3.8.10\\lib\\site-packages (2.10.1)\n",
      "Requirement already satisfied: numpy>=1.17 in c:\\users\\texas\\.pyenv\\pyenv-win\\versions\\3.8.10\\lib\\site-packages (from datasets) (1.23.5)\n",
      "Requirement already satisfied: pyarrow>=6.0.0 in c:\\users\\texas\\.pyenv\\pyenv-win\\versions\\3.8.10\\lib\\site-packages (from datasets) (11.0.0)\n",
      "Requirement already satisfied: dill<0.3.7,>=0.3.0 in c:\\users\\texas\\.pyenv\\pyenv-win\\versions\\3.8.10\\lib\\site-packages (from datasets) (0.3.6)\n",
      "Requirement already satisfied: pandas in c:\\users\\texas\\.pyenv\\pyenv-win\\versions\\3.8.10\\lib\\site-packages (from datasets) (1.5.3)\n",
      "Requirement already satisfied: requests>=2.19.0 in c:\\users\\texas\\.pyenv\\pyenv-win\\versions\\3.8.10\\lib\\site-packages (from datasets) (2.28.2)\n",
      "Requirement already satisfied: tqdm>=4.62.1 in c:\\users\\texas\\.pyenv\\pyenv-win\\versions\\3.8.10\\lib\\site-packages (from datasets) (4.64.1)\n",
      "Requirement already satisfied: xxhash in c:\\users\\texas\\.pyenv\\pyenv-win\\versions\\3.8.10\\lib\\site-packages (from datasets) (3.2.0)\n",
      "Requirement already satisfied: multiprocess in c:\\users\\texas\\.pyenv\\pyenv-win\\versions\\3.8.10\\lib\\site-packages (from datasets) (0.70.14)\n",
      "Requirement already satisfied: fsspec[http]>=2021.11.1 in c:\\users\\texas\\.pyenv\\pyenv-win\\versions\\3.8.10\\lib\\site-packages (from datasets) (2023.3.0)\n",
      "Requirement already satisfied: aiohttp in c:\\users\\texas\\.pyenv\\pyenv-win\\versions\\3.8.10\\lib\\site-packages (from datasets) (3.8.4)\n",
      "Requirement already satisfied: huggingface-hub<1.0.0,>=0.2.0 in c:\\users\\texas\\.pyenv\\pyenv-win\\versions\\3.8.10\\lib\\site-packages (from datasets) (0.13.2)\n",
      "Requirement already satisfied: packaging in c:\\users\\texas\\.pyenv\\pyenv-win\\versions\\3.8.10\\lib\\site-packages (from datasets) (23.0)\n",
      "Requirement already satisfied: responses<0.19 in c:\\users\\texas\\.pyenv\\pyenv-win\\versions\\3.8.10\\lib\\site-packages (from datasets) (0.18.0)\n",
      "Requirement already satisfied: pyyaml>=5.1 in c:\\users\\texas\\.pyenv\\pyenv-win\\versions\\3.8.10\\lib\\site-packages (from datasets) (5.4.1)\n",
      "Requirement already satisfied: attrs>=17.3.0 in c:\\users\\texas\\.pyenv\\pyenv-win\\versions\\3.8.10\\lib\\site-packages (from aiohttp->datasets) (22.2.0)\n",
      "Requirement already satisfied: charset-normalizer<4.0,>=2.0 in c:\\users\\texas\\.pyenv\\pyenv-win\\versions\\3.8.10\\lib\\site-packages (from aiohttp->datasets) (3.0.1)\n",
      "Requirement already satisfied: multidict<7.0,>=4.5 in c:\\users\\texas\\.pyenv\\pyenv-win\\versions\\3.8.10\\lib\\site-packages (from aiohttp->datasets) (6.0.4)\n",
      "Requirement already satisfied: async-timeout<5.0,>=4.0.0a3 in c:\\users\\texas\\.pyenv\\pyenv-win\\versions\\3.8.10\\lib\\site-packages (from aiohttp->datasets) (4.0.2)\n",
      "Requirement already satisfied: yarl<2.0,>=1.0 in c:\\users\\texas\\.pyenv\\pyenv-win\\versions\\3.8.10\\lib\\site-packages (from aiohttp->datasets) (1.8.2)\n",
      "Requirement already satisfied: frozenlist>=1.1.1 in c:\\users\\texas\\.pyenv\\pyenv-win\\versions\\3.8.10\\lib\\site-packages (from aiohttp->datasets) (1.3.3)\n",
      "Requirement already satisfied: aiosignal>=1.1.2 in c:\\users\\texas\\.pyenv\\pyenv-win\\versions\\3.8.10\\lib\\site-packages (from aiohttp->datasets) (1.3.1)\n",
      "Requirement already satisfied: filelock in c:\\users\\texas\\.pyenv\\pyenv-win\\versions\\3.8.10\\lib\\site-packages (from huggingface-hub<1.0.0,>=0.2.0->datasets) (3.9.0)\n",
      "Requirement already satisfied: typing-extensions>=3.7.4.3 in c:\\users\\texas\\.pyenv\\pyenv-win\\versions\\3.8.10\\lib\\site-packages (from huggingface-hub<1.0.0,>=0.2.0->datasets) (4.5.0)\n",
      "Requirement already satisfied: idna<4,>=2.5 in c:\\users\\texas\\.pyenv\\pyenv-win\\versions\\3.8.10\\lib\\site-packages (from requests>=2.19.0->datasets) (3.4)\n",
      "Requirement already satisfied: urllib3<1.27,>=1.21.1 in c:\\users\\texas\\.pyenv\\pyenv-win\\versions\\3.8.10\\lib\\site-packages (from requests>=2.19.0->datasets) (1.26.14)\n",
      "Requirement already satisfied: certifi>=2017.4.17 in c:\\users\\texas\\.pyenv\\pyenv-win\\versions\\3.8.10\\lib\\site-packages (from requests>=2.19.0->datasets) (2022.12.7)\n",
      "Requirement already satisfied: colorama in c:\\users\\texas\\.pyenv\\pyenv-win\\versions\\3.8.10\\lib\\site-packages (from tqdm>=4.62.1->datasets) (0.4.6)\n",
      "Requirement already satisfied: python-dateutil>=2.8.1 in c:\\users\\texas\\.pyenv\\pyenv-win\\versions\\3.8.10\\lib\\site-packages (from pandas->datasets) (2.8.2)\n",
      "Requirement already satisfied: pytz>=2020.1 in c:\\users\\texas\\.pyenv\\pyenv-win\\versions\\3.8.10\\lib\\site-packages (from pandas->datasets) (2022.7.1)\n",
      "Requirement already satisfied: six>=1.5 in c:\\users\\texas\\.pyenv\\pyenv-win\\versions\\3.8.10\\lib\\site-packages (from python-dateutil>=2.8.1->pandas->datasets) (1.16.0)\n",
      "Note: you may need to restart the kernel to use updated packages.\n"
     ]
    }
   ],
   "source": [
    "pip install datasets"
   ]
  },
  {
   "cell_type": "code",
   "execution_count": 3,
   "id": "131bf625",
   "metadata": {
    "tags": []
   },
   "outputs": [
    {
     "name": "stderr",
     "output_type": "stream",
     "text": [
      "c:\\Users\\texas\\.pyenv\\pyenv-win\\versions\\3.8.10\\lib\\site-packages\\tqdm\\auto.py:22: TqdmWarning: IProgress not found. Please update jupyter and ipywidgets. See https://ipywidgets.readthedocs.io/en/stable/user_install.html\n",
      "  from .autonotebook import tqdm as notebook_tqdm\n",
      "Found cached dataset parquet (C:/Users/texas/.cache/huggingface/datasets/kmewhort___parquet/kmewhort--quickdraw-bins-1pct-sample-eaac784574b05f1b/0.0.0/2a3b91fbd88a2c90d1dbbb32b460cf621d31bd5b05b934492fdef7d8d6f236ec)\n",
      "100%|██████████| 2/2 [00:00<00:00,  4.67it/s]\n"
     ]
    }
   ],
   "source": [
    "from datasets import load_dataset # Hugging face datasets \n",
    "\n",
    "dataset = load_dataset(\"kmewhort/quickdraw-bins-1pct-sample\")"
   ]
  },
  {
   "cell_type": "code",
   "execution_count": 4,
   "id": "fb22100a-242a-4e60-ba17-8b693ca3eefb",
   "metadata": {
    "tags": []
   },
   "outputs": [
    {
     "name": "stdout",
     "output_type": "stream",
     "text": [
      "DatasetDict({\n",
      "    train: Dataset({\n",
      "        features: ['label', 'packed_drawing'],\n",
      "        num_rows: 403410\n",
      "    })\n",
      "    test: Dataset({\n",
      "        features: ['label', 'packed_drawing'],\n",
      "        num_rows: 100853\n",
      "    })\n",
      "})\n"
     ]
    }
   ],
   "source": [
    "print(dataset)\n",
    "from struct import unpack\n",
    "import io"
   ]
  },
  {
   "cell_type": "code",
   "execution_count": 5,
   "id": "c7b10107-2f30-4f3a-bd9d-52601420209c",
   "metadata": {
    "tags": []
   },
   "outputs": [],
   "source": [
    "def unpack_drawing(file_handle):\n",
    "    key_id, = unpack('Q', file_handle.read(8))\n",
    "    country_code, = unpack('2s', file_handle.read(2))\n",
    "    recognized, = unpack('b', file_handle.read(1))\n",
    "    timestamp, = unpack('I', file_handle.read(4))\n",
    "    n_strokes, = unpack('H', file_handle.read(2))\n",
    "    image = []\n",
    "    n_bytes = 17\n",
    "    for i in range(n_strokes):\n",
    "        n_points, = unpack('H', file_handle.read(2))\n",
    "        fmt = str(n_points) + 'B'\n",
    "        x = unpack(fmt, file_handle.read(n_points))\n",
    "        y = unpack(fmt, file_handle.read(n_points))\n",
    "        image.append((x, y))\n",
    "        n_bytes += 2 + 2*n_points\n",
    "    result = {\n",
    "        'key_id': key_id,\n",
    "        'country_code': country_code,\n",
    "        'recognized': recognized,\n",
    "        'timestamp': timestamp,\n",
    "        'image': image,\n",
    "    }\n",
    "    return result\n",
    "\n",
    "# packed bin -> RGB PIL\n",
    "def binToPIL(packed_drawing):\n",
    "    padding = 8\n",
    "    radius = 7\n",
    "    scale = (224.0-(2*padding)) / 256\n",
    "    \n",
    "    unpacked = unpack_drawing(io.BytesIO(packed_drawing))\n",
    "    unpacked_image = unpacked['image']\n",
    "    image = np.full((224,224), 255, np.uint8)\n",
    "    for stroke in unpacked['image']:\n",
    "        prevX = round(stroke[0][0]*scale)\n",
    "        prevY = round(stroke[1][0]*scale)\n",
    "        for i in range(1, len(stroke[0])):\n",
    "            x = round(stroke[0][i]*scale)\n",
    "            y = round(stroke[1][i]*scale)\n",
    "            cv2.line(image, (padding+prevX, padding+prevY), (padding+x, padding+y), 0, radius, -1)\n",
    "            prevX = x\n",
    "            prevY = y\n",
    "    # turn image into 28 x 28\n",
    "    image = cv2.resize(image, (28, 28))\n",
    "    return image\n",
    "    pilImage = Image.fromarray(image).convert(\"RGB\")     \n",
    "    return pilImage\n",
    "\n",
    "\n",
    "# unpack_drawing(dataset['train'][0]['features']['packed_drawing'])\n",
    "# unpack_drawing(io.BytesIO(dataset['train'][0]['packed_drawing']))"
   ]
  },
  {
   "cell_type": "code",
   "execution_count": 6,
   "id": "161bead8",
   "metadata": {},
   "outputs": [
    {
     "name": "stdout",
     "output_type": "stream",
     "text": [
      "(403410,)\n"
     ]
    }
   ],
   "source": [
    "# x_train = np.array([str(dataset['train'][i]['packed_drawing']) for i in range(len(dataset['train']))])\n",
    "x_temp = np.array([dataset['train'][i]['packed_drawing'] for i in range(len(dataset['train']))])\n",
    "y_temp = np.array([dataset['train'][i]['label'] for i in range(len(dataset['train']))])\n",
    "\n",
    "# print(x_temp.shape)\n",
    "\n",
    "# randomize the data\n",
    "p = np.random.permutation(len(x_temp))\n",
    "x_temp = x_temp[p]\n",
    "y_temp = y_temp[p]\n",
    "\n",
    "# only use a thousand samples for now\n",
    "# x_temp = x_temp[:1000]\n",
    "# y_temp = y_temp[:1000]\n",
    "\n",
    "print(x_temp.shape)\n",
    "# testing temp"
   ]
  },
  {
   "cell_type": "code",
   "execution_count": 16,
   "id": "441ffe3f",
   "metadata": {},
   "outputs": [
    {
     "name": "stdout",
     "output_type": "stream",
     "text": [
      "(1000,)\n"
     ]
    }
   ],
   "source": [
    "print(x_temp.shape)"
   ]
  },
  {
   "cell_type": "code",
   "execution_count": 29,
   "id": "42a18bc6",
   "metadata": {},
   "outputs": [
    {
     "name": "stdout",
     "output_type": "stream",
     "text": [
      "61\n"
     ]
    }
   ],
   "source": [
    "# bin to PIL\n",
    "# binToPIL(str(x_train[35]))\n",
    "x = []\n",
    "y = []\n",
    "counter = 0\n",
    "for i in range(len(x_temp)):\n",
    "    try:\n",
    "        x.append(binToPIL(x_temp[i]))\n",
    "        y.append(y_temp[i])\n",
    "    except:\n",
    "        counter += 1\n",
    "        # print(x_temp[i])\n",
    "\n",
    "print(counter)\n",
    "# to numpy array\n",
    "x = np.array(x)\n",
    "y = np.array(y)\n",
    "\n",
    "# split into train and test\n",
    "split = 0.8\n",
    "x_train = x[:int(split * len(x))]\n",
    "y_train = y[:int(split * len(y))]\n",
    "x_test = x[int(split * len(x)) :]\n",
    "y_test = y[int(split * len(y)) :]"
   ]
  },
  {
   "cell_type": "code",
   "execution_count": 30,
   "id": "d1274996",
   "metadata": {},
   "outputs": [],
   "source": [
    "image_size = 28\n",
    "\n",
    "x_train = x_train.reshape(x_train.shape[0], image_size, image_size, 1).astype('float32')\n",
    "x_test = x_test.reshape(x_test.shape[0], image_size, image_size, 1).astype('float32')\n",
    "\n",
    "x_train /= 255.0\n",
    "x_test /= 255.0"
   ]
  },
  {
   "cell_type": "code",
   "execution_count": 31,
   "id": "59d614c4",
   "metadata": {},
   "outputs": [],
   "source": [
    "# on the fly byte tensor to np array layer\n",
    "class ByteTensorToNumpyArray(layers.Layer):\n",
    "    def __init__(self, **kwargs):\n",
    "        super(ByteTensorToNumpyArray, self).__init__(**kwargs)\n",
    "\n",
    "    def call(self, inputs):\n",
    "        return tf.numpy_function(func=binToPIL, inp=[inputs], Tout=tf.uint8)\n",
    "    \n",
    "layer = ByteTensorToNumpyArray()\n"
   ]
  },
  {
   "cell_type": "code",
   "execution_count": 32,
   "id": "4900950b",
   "metadata": {},
   "outputs": [
    {
     "name": "stdout",
     "output_type": "stream",
     "text": [
      "Model: \"sequential_4\"\n",
      "_________________________________________________________________\n",
      " Layer (type)                Output Shape              Param #   \n",
      "=================================================================\n",
      " conv2d_12 (Conv2D)          (None, 28, 28, 16)        160       \n",
      "                                                                 \n",
      " max_pooling2d_12 (MaxPoolin  (None, 14, 14, 16)       0         \n",
      " g2D)                                                            \n",
      "                                                                 \n",
      " conv2d_13 (Conv2D)          (None, 14, 14, 32)        4640      \n",
      "                                                                 \n",
      " max_pooling2d_13 (MaxPoolin  (None, 7, 7, 32)         0         \n",
      " g2D)                                                            \n",
      "                                                                 \n",
      " conv2d_14 (Conv2D)          (None, 7, 7, 64)          18496     \n",
      "                                                                 \n",
      " max_pooling2d_14 (MaxPoolin  (None, 3, 3, 64)         0         \n",
      " g2D)                                                            \n",
      "                                                                 \n",
      " flatten_4 (Flatten)         (None, 576)               0         \n",
      "                                                                 \n",
      " dense_8 (Dense)             (None, 128)               73856     \n",
      "                                                                 \n",
      " dense_9 (Dense)             (None, 345)               44505     \n",
      "                                                                 \n",
      "=================================================================\n",
      "Total params: 141,657\n",
      "Trainable params: 141,657\n",
      "Non-trainable params: 0\n",
      "_________________________________________________________________\n",
      "None\n"
     ]
    }
   ],
   "source": [
    "# Convert class vectors to class matrices\n",
    "y_train = keras.utils.to_categorical(y_train, 345)\n",
    "y_test = keras.utils.to_categorical(y_test, 345)\n",
    "\n",
    "model = keras.Sequential()\n",
    "model.add(layers.Convolution2D(16, (3, 3),\n",
    "                        padding='same',\n",
    "                        input_shape=x_train.shape[1:], activation='relu'))\n",
    "model.add(layers.MaxPooling2D(pool_size=(2, 2)))\n",
    "model.add(layers.Convolution2D(32, (3, 3), padding='same', activation= 'relu'))\n",
    "model.add(layers.MaxPooling2D(pool_size=(2, 2)))\n",
    "model.add(layers.Convolution2D(64, (3, 3), padding='same', activation= 'relu'))\n",
    "model.add(layers.MaxPooling2D(pool_size =(2,2)))\n",
    "model.add(layers.Flatten())\n",
    "model.add(layers.Dense(128, activation='relu'))\n",
    "model.add(layers.Dense(345, activation='softmax')) \n",
    "# Train model\n",
    "# adam = tf.train.AdamOptimizer()\n",
    "# Train model\n",
    "# adam = tf.train.AdamOptimizer()\n",
    "# model.compile(loss='categorical_crossentropy',\n",
    "#               optimizer=adam,\n",
    "#               metrics=['top_k_categorical_accuracy'])\n",
    "\n",
    "model.compile(loss='categorical_crossentropy',\n",
    "              optimizer='adam',\n",
    "              metrics=['top_k_categorical_accuracy'])\n",
    "\n",
    "print(model.summary())"
   ]
  },
  {
   "cell_type": "code",
   "execution_count": 33,
   "id": "fa73cabf",
   "metadata": {},
   "outputs": [
    {
     "name": "stdout",
     "output_type": "stream",
     "text": [
      "Epoch 1/5\n",
      "3/3 - 3s - loss: 5.8442 - top_k_categorical_accuracy: 0.0089 - val_loss: 5.8555 - val_top_k_categorical_accuracy: 0.0132 - 3s/epoch - 841ms/step\n",
      "Epoch 2/5\n",
      "3/3 - 0s - loss: 5.8224 - top_k_categorical_accuracy: 0.0207 - val_loss: 5.8609 - val_top_k_categorical_accuracy: 0.0132 - 403ms/epoch - 134ms/step\n",
      "Epoch 3/5\n",
      "3/3 - 1s - loss: 5.7949 - top_k_categorical_accuracy: 0.0267 - val_loss: 5.8856 - val_top_k_categorical_accuracy: 0.0132 - 557ms/epoch - 186ms/step\n",
      "Epoch 4/5\n",
      "3/3 - 0s - loss: 5.7512 - top_k_categorical_accuracy: 0.0415 - val_loss: 5.9658 - val_top_k_categorical_accuracy: 0.0132 - 485ms/epoch - 162ms/step\n",
      "Epoch 5/5\n",
      "3/3 - 0s - loss: 5.7095 - top_k_categorical_accuracy: 0.0415 - val_loss: 6.0559 - val_top_k_categorical_accuracy: 0.0132 - 377ms/epoch - 126ms/step\n",
      "Test accuarcy: 1.06%\n"
     ]
    }
   ],
   "source": [
    "model.fit(x = x_train, y = y_train, validation_split=0.1, batch_size = 256, verbose=2, epochs=5)\n",
    "\n",
    "#evaluate on unseen data\n",
    "score = model.evaluate(x_test, y_test, verbose=0)\n",
    "print('Test accuarcy: {:0.2f}%'.format(score[1] * 100))"
   ]
  },
  {
   "cell_type": "code",
   "execution_count": 45,
   "id": "35f50ba5",
   "metadata": {},
   "outputs": [
    {
     "name": "stdout",
     "output_type": "stream",
     "text": [
      "28\n"
     ]
    }
   ],
   "source": [
    "import numpy as np\n",
    "# get the size of the first element in the training set\n",
    "# this is the size of the image\n",
    "image_size = x_train[0].shape[0]\n",
    "print(image_size)\n",
    "\n",
    "# create an array of zeros with the same size as the image\n",
    "# this will be the image that we will draw on\n",
    "image = np.zeros((image_size, image_size))\n",
    "# reshape the image to be a fit for the model\n",
    "image = image.reshape(1, image_size, image_size, 1).astype('float32')"
   ]
  },
  {
   "cell_type": "code",
   "execution_count": 46,
   "id": "0c7d46d1",
   "metadata": {},
   "outputs": [],
   "source": [
    "# save the image as a json file\n",
    "import json\n",
    "with open('image.json', 'w') as outfile:\n",
    "    json.dump(image.tolist(), outfile)"
   ]
  },
  {
   "cell_type": "code",
   "execution_count": 38,
   "id": "05a719ff",
   "metadata": {},
   "outputs": [
    {
     "name": "stdout",
     "output_type": "stream",
     "text": [
      "1/1 [==============================] - 1s 1s/step\n",
      "[[0.002131   0.00465648 0.00196245 0.00271681 0.00276198 0.00118648\n",
      "  0.00049879 0.00037218 0.00156709 0.00476362 0.00212396 0.00064234\n",
      "  0.00256845 0.00145623 0.00285067 0.001548   0.00192683 0.00209718\n",
      "  0.00175823 0.00635993 0.00224878 0.00193923 0.00081721 0.00338876\n",
      "  0.00072713 0.00147774 0.00226917 0.00367905 0.00197505 0.00090464\n",
      "  0.0026802  0.00369431 0.00152704 0.00929076 0.0019763  0.00114994\n",
      "  0.00158516 0.0018165  0.00071738 0.00179795 0.00685635 0.00154472\n",
      "  0.00549464 0.00083173 0.00094284 0.00118036 0.0005366  0.00200062\n",
      "  0.0050106  0.00069132 0.00494606 0.00412925 0.0021354  0.00278046\n",
      "  0.00054942 0.00147162 0.00716976 0.00086851 0.00146297 0.00269359\n",
      "  0.00676326 0.01109182 0.00294942 0.00441382 0.00419435 0.0017698\n",
      "  0.00246963 0.00186172 0.00116578 0.00147779 0.00237436 0.00560486\n",
      "  0.00270869 0.00497384 0.00267395 0.00263405 0.00654821 0.00204477\n",
      "  0.00307611 0.00214549 0.00254805 0.00068134 0.001637   0.00313682\n",
      "  0.00149485 0.00081986 0.00563923 0.00150859 0.00241754 0.00074275\n",
      "  0.00237416 0.00109253 0.00470073 0.00302729 0.00255957 0.00221779\n",
      "  0.00238134 0.00217703 0.00116002 0.00071012 0.00402014 0.00198785\n",
      "  0.004499   0.00088452 0.00172063 0.0016032  0.00256176 0.00142895\n",
      "  0.00124779 0.00920547 0.00511428 0.00440866 0.00383433 0.00219869\n",
      "  0.00180727 0.00985412 0.00127682 0.0023643  0.00377357 0.00577435\n",
      "  0.00154867 0.00802385 0.00217538 0.00255514 0.00085191 0.00356483\n",
      "  0.00282845 0.00093136 0.0034394  0.00251573 0.00247043 0.00040132\n",
      "  0.00380339 0.00411823 0.00158442 0.00078295 0.00184437 0.00210689\n",
      "  0.00221786 0.00160462 0.00517439 0.00563239 0.0036854  0.00224795\n",
      "  0.00349537 0.00107119 0.00243002 0.00125177 0.01020531 0.0038307\n",
      "  0.00185464 0.00323532 0.00130746 0.00081398 0.00114359 0.0025381\n",
      "  0.00121003 0.0070089  0.00340751 0.00248286 0.00117787 0.00247953\n",
      "  0.00118531 0.00335627 0.00184958 0.00332875 0.00119603 0.00202659\n",
      "  0.01435405 0.00613166 0.00064251 0.00131276 0.00543588 0.00505446\n",
      "  0.00197751 0.00324485 0.00128828 0.00093418 0.00118837 0.00527249\n",
      "  0.00119785 0.00357273 0.00423228 0.00683531 0.00756601 0.00287044\n",
      "  0.00267089 0.00063464 0.00748486 0.00626017 0.00060762 0.00147838\n",
      "  0.00464515 0.00257126 0.00234512 0.00522979 0.00456326 0.00551018\n",
      "  0.00132482 0.00186667 0.00794053 0.00077565 0.00133058 0.00100086\n",
      "  0.00348697 0.00133932 0.00179935 0.00255094 0.0017358  0.00673998\n",
      "  0.0068021  0.00278533 0.00593382 0.0041285  0.00218718 0.00258471\n",
      "  0.00447163 0.001621   0.00283056 0.002754   0.00091429 0.00353337\n",
      "  0.00218595 0.00661922 0.00522687 0.00113387 0.00186003 0.00077877\n",
      "  0.00267885 0.00376543 0.00636277 0.00545546 0.00174494 0.00154536\n",
      "  0.00103315 0.00569809 0.00318381 0.00377969 0.00437238 0.00123829\n",
      "  0.00165811 0.00171127 0.00594089 0.00279293 0.00497506 0.00334341\n",
      "  0.00447978 0.00630618 0.00252567 0.00425087 0.00141553 0.00221813\n",
      "  0.00160241 0.00307175 0.0025773  0.00139163 0.0045876  0.00082118\n",
      "  0.00658612 0.00023358 0.00165185 0.00179085 0.00076376 0.00608038\n",
      "  0.00327588 0.00193472 0.00144437 0.00091663 0.00405451 0.00251357\n",
      "  0.00255727 0.00324168 0.00145523 0.00242844 0.00437446 0.0032398\n",
      "  0.00204025 0.0024728  0.00209041 0.01239449 0.00598507 0.00448047\n",
      "  0.00258286 0.00058015 0.0039992  0.00069327 0.00481623 0.00217644\n",
      "  0.00332648 0.00548516 0.00060129 0.00118972 0.00164462 0.00776401\n",
      "  0.00109213 0.00197917 0.00197924 0.00250498 0.00356339 0.00071691\n",
      "  0.00205975 0.00305369 0.00472497 0.00157139 0.00549618 0.00091693\n",
      "  0.00126317 0.0014906  0.00126621 0.00146045 0.00293175 0.00273509\n",
      "  0.0004238  0.00340117 0.00302231 0.00312803 0.00297975 0.00301541\n",
      "  0.00413568 0.00306234 0.00131862 0.0032451  0.00110536 0.00063989\n",
      "  0.00274676 0.00163933 0.00267615 0.00187945 0.0009121  0.00223776\n",
      "  0.00559667 0.00197182 0.0004246  0.00259301 0.00458745 0.00513318\n",
      "  0.00289268 0.00080364 0.00214008 0.00229811 0.00120784 0.00113979\n",
      "  0.00158967 0.00259875 0.00546034]]\n"
     ]
    }
   ],
   "source": [
    "# predict using the first image in the test set\n",
    "print(model.predict(x_test[0:1]))"
   ]
  },
  {
   "cell_type": "code",
   "execution_count": 34,
   "id": "78af3dca",
   "metadata": {},
   "outputs": [],
   "source": [
    "model.save('model.h5')"
   ]
  },
  {
   "cell_type": "code",
   "execution_count": 37,
   "id": "b6632494",
   "metadata": {},
   "outputs": [],
   "source": [
    "model_json = model.to_json()\n",
    "with open(\"model.json\", \"w\") as json_file:\n",
    "    json_file.write(model_json)"
   ]
  }
 ],
 "metadata": {
  "kernelspec": {
   "display_name": "Python 3",
   "language": "python",
   "name": "python3"
  },
  "language_info": {
   "codemirror_mode": {
    "name": "ipython",
    "version": 3
   },
   "file_extension": ".py",
   "mimetype": "text/x-python",
   "name": "python",
   "nbconvert_exporter": "python",
   "pygments_lexer": "ipython3",
   "version": "3.8.10"
  }
 },
 "nbformat": 4,
 "nbformat_minor": 5
}
